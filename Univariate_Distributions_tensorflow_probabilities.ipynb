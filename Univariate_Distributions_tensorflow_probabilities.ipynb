{
  "nbformat": 4,
  "nbformat_minor": 0,
  "metadata": {
    "colab": {
      "name": "Univariate Distributions-tensorflow probabilities",
      "provenance": [],
      "authorship_tag": "ABX9TyPsB/cXMAqPaM9H0Djr09Qu",
      "include_colab_link": true
    },
    "kernelspec": {
      "name": "python3",
      "display_name": "Python 3"
    },
    "language_info": {
      "name": "python"
    }
  },
  "cells": [
    {
      "cell_type": "markdown",
      "metadata": {
        "id": "view-in-github",
        "colab_type": "text"
      },
      "source": [
        "<a href=\"https://colab.research.google.com/github/Satyake/Probabilistic-Learning-TensorFlow-/blob/main/Univariate_Distributions_tensorflow_probabilities.ipynb\" target=\"_parent\"><img src=\"https://colab.research.google.com/assets/colab-badge.svg\" alt=\"Open In Colab\"/></a>"
      ]
    },
    {
      "cell_type": "code",
      "execution_count": 1,
      "metadata": {
        "id": "uZ02o_7rT8cw"
      },
      "outputs": [],
      "source": [
        "import tensorflow as tf\n",
        "import tensorflow_probability as tfp\n",
        "import numpy as np \n",
        "import matplotlib.pyplot as plt\n"
      ]
    },
    {
      "cell_type": "code",
      "source": [
        "tfd=tfp.distributions"
      ],
      "metadata": {
        "id": "qGBxhYB6UKNv"
      },
      "execution_count": 2,
      "outputs": []
    },
    {
      "cell_type": "code",
      "source": [
        "#normal distribution\n",
        "normal=tfd.Normal(loc=0, scale=1)\n",
        "normal"
      ],
      "metadata": {
        "colab": {
          "base_uri": "https://localhost:8080/"
        },
        "id": "rWkB_TIaUW8z",
        "outputId": "7133878e-7799-4dd8-9262-f8cbfc7cacf7"
      },
      "execution_count": 3,
      "outputs": [
        {
          "output_type": "execute_result",
          "data": {
            "text/plain": [
              "<tfp.distributions.Normal 'Normal' batch_shape=[] event_shape=[] dtype=float32>"
            ]
          },
          "metadata": {},
          "execution_count": 3
        }
      ]
    },
    {
      "cell_type": "code",
      "source": [
        "#sample from a choosen Distribution\n",
        "normal.sample(10)"
      ],
      "metadata": {
        "colab": {
          "base_uri": "https://localhost:8080/"
        },
        "id": "lzGRyXiGUfyT",
        "outputId": "5ab94c12-728c-45a7-df55-abe20641fc22"
      },
      "execution_count": 4,
      "outputs": [
        {
          "output_type": "execute_result",
          "data": {
            "text/plain": [
              "<tf.Tensor: shape=(10,), dtype=float32, numpy=\n",
              "array([ 0.74094194, -0.2079224 ,  0.45989093,  1.3547872 ,  1.2964939 ,\n",
              "        0.27011597, -0.24633755,  0.11761506,  1.4771789 , -0.20772745],\n",
              "      dtype=float32)>"
            ]
          },
          "metadata": {},
          "execution_count": 4
        }
      ]
    },
    {
      "cell_type": "code",
      "source": [
        "#obtain value of probability density\n",
        "normal.prob(0)"
      ],
      "metadata": {
        "colab": {
          "base_uri": "https://localhost:8080/"
        },
        "id": "nzDWLKnzUntt",
        "outputId": "4495f8e3-a59e-4462-f494-d4a771ddb224"
      },
      "execution_count": 5,
      "outputs": [
        {
          "output_type": "execute_result",
          "data": {
            "text/plain": [
              "<tf.Tensor: shape=(), dtype=float32, numpy=0.3989423>"
            ]
          },
          "metadata": {},
          "execution_count": 5
        }
      ]
    },
    {
      "cell_type": "code",
      "source": [
        "#obtain value of log probability \n",
        "normal.log_prob(0)"
      ],
      "metadata": {
        "colab": {
          "base_uri": "https://localhost:8080/"
        },
        "id": "FjEOsd1MUuk-",
        "outputId": "e017669d-e6f7-42e8-cb33-668bbcd39b22"
      },
      "execution_count": 6,
      "outputs": [
        {
          "output_type": "execute_result",
          "data": {
            "text/plain": [
              "<tf.Tensor: shape=(), dtype=float32, numpy=-0.9189385>"
            ]
          },
          "metadata": {},
          "execution_count": 6
        }
      ]
    },
    {
      "cell_type": "code",
      "source": [
        "plt.hist(normal.sample(10000),density=True,bins=50)"
      ],
      "metadata": {
        "colab": {
          "base_uri": "https://localhost:8080/",
          "height": 646
        },
        "id": "GFEN_bHXUy9S",
        "outputId": "7459554f-eab1-4867-97c0-62eb0a13520e"
      },
      "execution_count": 7,
      "outputs": [
        {
          "output_type": "execute_result",
          "data": {
            "text/plain": [
              "(array([0.00058235, 0.00058235, 0.00058235, 0.        , 0.00174706,\n",
              "        0.00232942, 0.00465884, 0.00582354, 0.00931766, 0.01164708,\n",
              "        0.01980003, 0.02620592, 0.04542359, 0.05474125, 0.07221187,\n",
              "        0.1193826 , 0.16655318, 0.21081206, 0.22187678, 0.27952981,\n",
              "        0.29700052, 0.34882991, 0.37969472, 0.38610055, 0.3913418 ,\n",
              "        0.40706532, 0.36105937, 0.34184172, 0.30631808, 0.28477109,\n",
              "        0.2393474 , 0.21139442, 0.17121201, 0.11821781, 0.09317667,\n",
              "        0.07861776, 0.05648832, 0.03261181, 0.02737063, 0.01805297,\n",
              "        0.00524118, 0.00582354, 0.00407648, 0.00174706, 0.00116471,\n",
              "        0.00058235, 0.        , 0.        , 0.        , 0.00058235]),\n",
              " array([-4.2407336 , -4.069017  , -3.8972998 , -3.7255828 , -3.553866  ,\n",
              "        -3.382149  , -3.210432  , -3.0387154 , -2.8669984 , -2.6952815 ,\n",
              "        -2.5235646 , -2.3518476 , -2.1801307 , -2.0084138 , -1.8366969 ,\n",
              "        -1.6649799 , -1.4932631 , -1.3215462 , -1.1498293 , -0.97811234,\n",
              "        -0.8063954 , -0.63467854, -0.4629616 , -0.29124472, -0.11952779,\n",
              "         0.05218911,  0.22390603,  0.39562294,  0.56733984,  0.73905677,\n",
              "         0.91077363,  1.0824906 ,  1.2542075 ,  1.4259244 ,  1.5976413 ,\n",
              "         1.7693582 ,  1.9410751 ,  2.112792  ,  2.284509  ,  2.4562259 ,\n",
              "         2.6279428 ,  2.7996597 ,  2.9713767 ,  3.1430936 ,  3.3148103 ,\n",
              "         3.4865272 ,  3.6582441 ,  3.829961  ,  4.001678  ,  4.173395  ,\n",
              "         4.345112  ], dtype=float32),\n",
              " <a list of 50 Patch objects>)"
            ]
          },
          "metadata": {},
          "execution_count": 7
        },
        {
          "output_type": "display_data",
          "data": {
            "text/plain": [
              "<Figure size 432x288 with 1 Axes>"
            ],
            "image/png": "[encoded data removed]"
          },
          "metadata": {
            "needs_background": "light"
          }
        }
      ]
    },
    {
      "cell_type": "code",
      "source": [
        "#exponential distr\n",
        "exponential=tfd.Exponential(rate=0.2)\n",
        "plt.hist(exponential.sample(10000),density=True,bins=50)"
      ],
      "metadata": {
        "colab": {
          "base_uri": "https://localhost:8080/",
          "height": 733
        },
        "id": "sJZibogrYbme",
        "outputId": "0e150d7e-b420-4b6e-ec4d-85b4b67ca70f"
      },
      "execution_count": 8,
      "outputs": [
        {
          "output_type": "execute_result",
          "data": {
            "text/plain": [
              "(array([1.81472468e-01, 1.53208523e-01, 1.35038854e-01, 1.07560003e-01,\n",
              "        8.97267773e-02, 7.62678219e-02, 5.66400433e-02, 4.73308877e-02,\n",
              "        4.46390598e-02, 3.72366424e-02, 3.40962027e-02, 2.44505403e-02,\n",
              "        2.36654565e-02, 1.79453507e-02, 1.40198202e-02, 1.25617455e-02,\n",
              "        9.86995342e-03, 1.00942597e-02, 7.06598182e-03, 6.72952089e-03,\n",
              "        4.71065455e-03, 4.71065455e-03, 4.93498199e-03, 2.80396104e-03,\n",
              "        2.13101039e-03, 1.90669351e-03, 1.68238022e-03, 2.01885195e-03,\n",
              "        1.12158442e-03, 1.00942597e-03, 1.00942813e-03, 4.48633766e-04,\n",
              "        7.85109091e-04, 4.48634726e-04, 2.24316883e-04, 3.36475325e-04,\n",
              "        0.00000000e+00, 1.12158202e-04, 2.24317363e-04, 2.24317363e-04,\n",
              "        2.24316403e-04, 2.24317363e-04, 0.00000000e+00, 1.12158202e-04,\n",
              "        1.12158682e-04, 0.00000000e+00, 1.12158682e-04, 1.12158682e-04,\n",
              "        1.12158202e-04, 1.12158682e-04]),\n",
              " array([2.6226111e-05, 8.9162153e-01, 1.7832168e+00, 2.6748121e+00,\n",
              "        3.5664074e+00, 4.4580030e+00, 5.3495979e+00, 6.2411933e+00,\n",
              "        7.1327887e+00, 8.0243845e+00, 8.9159794e+00, 9.8075743e+00,\n",
              "        1.0699170e+01, 1.1590765e+01, 1.2482361e+01, 1.3373956e+01,\n",
              "        1.4265552e+01, 1.5157146e+01, 1.6048742e+01, 1.6940338e+01,\n",
              "        1.7831932e+01, 1.8723528e+01, 1.9615124e+01, 2.0506718e+01,\n",
              "        2.1398314e+01, 2.2289909e+01, 2.3181505e+01, 2.4073099e+01,\n",
              "        2.4964695e+01, 2.5856291e+01, 2.6747887e+01, 2.7639481e+01,\n",
              "        2.8531076e+01, 2.9422672e+01, 3.0314266e+01, 3.1205862e+01,\n",
              "        3.2097458e+01, 3.2989052e+01, 3.3880650e+01, 3.4772243e+01,\n",
              "        3.5663837e+01, 3.6555435e+01, 3.7447029e+01, 3.8338623e+01,\n",
              "        3.9230221e+01, 4.0121815e+01, 4.1013412e+01, 4.1905006e+01,\n",
              "        4.2796600e+01, 4.3688198e+01, 4.4579792e+01], dtype=float32),\n",
              " <a list of 50 Patch objects>)"
            ]
          },
          "metadata": {},
          "execution_count": 8
        },
        {
          "output_type": "display_data",
          "data": {
            "text/plain": [
              "<Figure size 432x288 with 1 Axes>"
            ],
            "image/png": "[encoded data removed]"
          },
          "metadata": {
            "needs_background": "light"
          }
        }
      ]
    },
    {
      "cell_type": "code",
      "source": [
        "#bernouli distr\n",
        "bernoulli=tfd.Bernoulli(probs=0.8)\n",
        "bernoulli.sample(20)"
      ],
      "metadata": {
        "colab": {
          "base_uri": "https://localhost:8080/"
        },
        "id": "juYSJ8V3YxId",
        "outputId": "501eedc1-561c-41f9-ff60-781b52174dd4"
      },
      "execution_count": 9,
      "outputs": [
        {
          "output_type": "execute_result",
          "data": {
            "text/plain": [
              "<tf.Tensor: shape=(20,), dtype=int32, numpy=\n",
              "array([0, 1, 0, 1, 1, 1, 0, 1, 1, 1, 1, 1, 0, 1, 1, 1, 1, 1, 1, 0],\n",
              "      dtype=int32)>"
            ]
          },
          "metadata": {},
          "execution_count": 9
        }
      ]
    },
    {
      "cell_type": "code",
      "source": [
        "#calculate bernoulli probs  to check that 0.5 and 01 do not give the correct probability\n",
        "for k in [0,0.5,1,-1]:\n",
        "   print('{} prob'.format(bernoulli.prob(k)))"
      ],
      "metadata": {
        "colab": {
          "base_uri": "https://localhost:8080/"
        },
        "id": "0Dx-fGdeY9_R",
        "outputId": "24ef3150-fdbd-480e-84ce-922ba47ccbcc"
      },
      "execution_count": 11,
      "outputs": [
        {
          "output_type": "stream",
          "name": "stdout",
          "text": [
            "0.19999998807907104 prob\n",
            "0.3999999761581421 prob\n",
            "0.800000011920929 prob\n",
            "0.04999999701976776 prob\n"
          ]
        }
      ]
    },
    {
      "cell_type": "code",
      "source": [
        "# batched distributiions\n",
        "bernoulli_batch=tfd.Bernoulli(probs=[1.0,0.25,0.5,0.9])\n",
        "bernoulli_batch.sample(5)"
      ],
      "metadata": {
        "colab": {
          "base_uri": "https://localhost:8080/"
        },
        "id": "FNxq2RLad9r8",
        "outputId": "57e16dd5-1e27-4691-c389-992a908176d4"
      },
      "execution_count": 13,
      "outputs": [
        {
          "output_type": "execute_result",
          "data": {
            "text/plain": [
              "<tf.Tensor: shape=(5, 4), dtype=int32, numpy=\n",
              "array([[1, 1, 0, 1],\n",
              "       [1, 0, 1, 1],\n",
              "       [1, 1, 1, 1],\n",
              "       [1, 0, 1, 1],\n",
              "       [1, 0, 1, 1]], dtype=int32)>"
            ]
          },
          "metadata": {},
          "execution_count": 13
        }
      ]
    },
    {
      "cell_type": "code",
      "source": [
        "#high dimensional distr\n",
        "bernoulli_batch2d=tfd.Bernoulli(probs=[[1,1],[2,2]])\n",
        "bernoulli_batch.sample(3)"
      ],
      "metadata": {
        "colab": {
          "base_uri": "https://localhost:8080/"
        },
        "id": "dXZvmndmeSYc",
        "outputId": "f48da0d0-e1c6-4995-c5c0-8d2e7ea8d6cc"
      },
      "execution_count": 14,
      "outputs": [
        {
          "output_type": "execute_result",
          "data": {
            "text/plain": [
              "<tf.Tensor: shape=(3, 4), dtype=int32, numpy=\n",
              "array([[1, 0, 1, 1],\n",
              "       [1, 0, 1, 1],\n",
              "       [1, 0, 1, 0]], dtype=int32)>"
            ]
          },
          "metadata": {},
          "execution_count": 14
        }
      ]
    }
  ]
}